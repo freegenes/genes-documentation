{
 "cells": [
  {
   "cell_type": "markdown",
   "metadata": {},
   "source": [
    "# Set BioNet Participation to \"No\" for people that don't have one"
   ]
  },
  {
   "cell_type": "code",
   "execution_count": 5,
   "metadata": {},
   "outputs": [],
   "source": [
    "yesPar = {'name': 'Participate in Bionet', 'value': 'Yes'}\n",
    "noPar = {'name': 'Participate in Bionet', 'value': 'No'}\n",
    "blankContact = {'name': 'Bionet Contact', 'value': 'NA'}"
   ]
  },
  {
   "cell_type": "code",
   "execution_count": 6,
   "metadata": {},
   "outputs": [],
   "source": [
    "from utils import *\n",
    "import time"
   ]
  },
  {
   "cell_type": "code",
   "execution_count": 7,
   "metadata": {},
   "outputs": [],
   "source": [
    "orders = getAllShopifyOrders()"
   ]
  },
  {
   "cell_type": "code",
   "execution_count": 8,
   "metadata": {},
   "outputs": [],
   "source": [
    "for o in orders:\n",
    "    c=False\n",
    "    fields = [a.to_dict()[\"name\"] for a in o.note_attributes]\n",
    "    if not noPar[\"name\"] in fields:\n",
    "        o.note_attributes.append(shopify.NoteAttribute(noPar))\n",
    "        c = True\n",
    "    if not blankContact[\"name\"] in fields:\n",
    "        c = True\n",
    "        o.note_attributes.append(shopify.NoteAttribute(blankContact))\n",
    "    if c:\n",
    "        o.save()\n",
    "        time.sleep(1)"
   ]
  },
  {
   "cell_type": "code",
   "execution_count": 32,
   "metadata": {},
   "outputs": [
    {
     "name": "stdout",
     "output_type": "stream",
     "text": [
      "{'Research Exemption': 'Yes', 'Proper Storage Facilities': 'Yes', 'Participate in Bionet': 'Yes', 'Bionet Contact': 'matthew.pha@mahidol.edu'}\n",
      "{'Research Exemption': 'Yes', 'Proper Storage Facilities': 'Yes', 'Participate in Bionet': 'Yes', 'Bionet Contact': 'ltd@ruc.dk'}\n",
      "{'Research Exemption': 'Yes', 'Proper Storage Facilities': 'Yes', 'Participate in Bionet': 'Yes', 'Bionet Contact': 'travis@traviswertz.com'}\n",
      "{'Research Exemption': 'Yes', 'Proper Storage Facilities': 'Yes', 'Participate in Bionet': 'Yes', 'Bionet Contact': 'rcaroca@uazuay.edu.ec'}\n",
      "{'Research Exemption': 'Yes', 'Proper Storage Facilities': 'Yes', 'Participate in Bionet': 'Yes', 'Bionet Contact': 'matthew.pha@mahidol.edu'}\n"
     ]
    }
   ],
   "source": [
    "bionet = {}\n",
    "for o in orders:\n",
    "    fields = {a.to_dict()[\"name\"]: a.to_dict()[\"value\"] for a in o.note_attributes}\n",
    "    if fields[noPar[\"name\"]]==\"Yes\":\n",
    "        print(fields)\n",
    "        info = (o.attributes[\"customer\"].attributes[\"first_name\"], o.attributes[\"customer\"].attributes[\"last_name\"], fields[\"Bionet Contact\"])\n",
    "        for l in o.line_items:\n",
    "            if not l.attributes[\"product_id\"] in bionet.keys():\n",
    "                bionet[l.attributes[\"product_id\"]] = []\n",
    "            bionet[l.attributes[\"product_id\"]] = list(set(bionet[l.attributes[\"product_id\"]] + [info]))"
   ]
  },
  {
   "cell_type": "code",
   "execution_count": 33,
   "metadata": {},
   "outputs": [
    {
     "data": {
      "text/plain": [
       "{5282472427564: [('Louise', 'Dalgaard', 'ltd@ruc.dk'),\n",
       "  ('Matthew', 'Phanchana', 'matthew.pha@mahidol.edu')],\n",
       " 5025877196844: [('Matthew', 'Phanchana', 'matthew.pha@mahidol.edu')],\n",
       " 5177818120236: [('Matthew', 'Phanchana', 'matthew.pha@mahidol.edu')],\n",
       " 5025870086188: [('Travis', 'Wertz', 'travis@traviswertz.com'),\n",
       "  ('Matthew', 'Phanchana', 'matthew.pha@mahidol.edu'),\n",
       "  ('Rodrigo', 'Caroca', 'rcaroca@uazuay.edu.ec')],\n",
       " 5313071317036: [('Matthew', 'Phanchana', 'matthew.pha@mahidol.edu'),\n",
       "  ('Rodrigo', 'Caroca', 'rcaroca@uazuay.edu.ec')],\n",
       " 5072471851052: [('Louise', 'Dalgaard', 'ltd@ruc.dk'),\n",
       "  ('Matthew', 'Phanchana', 'matthew.pha@mahidol.edu')],\n",
       " 5072457236524: [('Louise', 'Dalgaard', 'ltd@ruc.dk'),\n",
       "  ('Matthew', 'Phanchana', 'matthew.pha@mahidol.edu')],\n",
       " 5188518379564: [('Travis', 'Wertz', 'travis@traviswertz.com')]}"
      ]
     },
     "execution_count": 33,
     "metadata": {},
     "output_type": "execute_result"
    }
   ],
   "source": [
    "bionet"
   ]
  },
  {
   "cell_type": "code",
   "execution_count": 29,
   "metadata": {},
   "outputs": [
    {
     "data": {
      "text/plain": [
       "'<table border=\"1\" class=\"dataframe\">\\n  <thead>\\n    <tr style=\"text-align: right;\">\\n      <th></th>\\n      <th>Name</th>\\n      <th>Contact</th>\\n    </tr>\\n  </thead>\\n  <tbody>\\n    <tr>\\n      <th>0</th>\\n      <td>Matthew Phanchana</td>\\n      <td>&lt;a href=\\'mailto:matthew.pha@mahidol.edu\\'&gt;mailto:matthew.pha@mahidol.edu&lt;/a&gt;</td>\\n    </tr>\\n  </tbody>\\n</table>'"
      ]
     },
     "execution_count": 29,
     "metadata": {},
     "output_type": "execute_result"
    }
   ],
   "source": []
  },
  {
   "cell_type": "code",
   "execution_count": null,
   "metadata": {},
   "outputs": [],
   "source": []
  }
 ],
 "metadata": {
  "kernelspec": {
   "display_name": "Python 3",
   "language": "python",
   "name": "python3"
  },
  "language_info": {
   "codemirror_mode": {
    "name": "ipython",
    "version": 3
   },
   "file_extension": ".py",
   "mimetype": "text/x-python",
   "name": "python",
   "nbconvert_exporter": "python",
   "pygments_lexer": "ipython3",
   "version": "3.9.1"
  }
 },
 "nbformat": 4,
 "nbformat_minor": 4
}
